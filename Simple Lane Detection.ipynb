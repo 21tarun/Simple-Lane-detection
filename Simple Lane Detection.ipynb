{
 "cells": [
  {
   "cell_type": "markdown",
   "metadata": {},
   "source": [
    "# Lane Detection"
   ]
  },
  {
   "cell_type": "code",
   "execution_count": 1,
   "metadata": {},
   "outputs": [],
   "source": [
    "import numpy as np\n",
    "import cv2\n",
    "\n"
   ]
  },
  {
   "cell_type": "code",
   "execution_count": 2,
   "metadata": {},
   "outputs": [],
   "source": [
    "img = cv2.imread(\"test3.jpg\")"
   ]
  },
  {
   "cell_type": "code",
   "execution_count": 3,
   "metadata": {},
   "outputs": [],
   "source": [
    "image=np.copy(img)"
   ]
  },
  {
   "cell_type": "code",
   "execution_count": 4,
   "metadata": {},
   "outputs": [],
   "source": [
    "# cv2.imshow('dkjkfj',img)\n",
    "# cv2.waitKey(0)"
   ]
  },
  {
   "cell_type": "code",
   "execution_count": 5,
   "metadata": {},
   "outputs": [],
   "source": [
    "img = cv2.cvtColor(img, cv2.COLOR_BGR2RGB) # converts from BGR to RGB"
   ]
  },
  {
   "cell_type": "code",
   "execution_count": 6,
   "metadata": {},
   "outputs": [],
   "source": [
    "# hls = cv2.cvtColor(img, cv2.COLOR_RGB2HLS)"
   ]
  },
  {
   "cell_type": "code",
   "execution_count": 7,
   "metadata": {},
   "outputs": [],
   "source": [
    "def color_filter(image):\n",
    "    #convert to HLS to mask based on HLS\n",
    "    hls = cv2.cvtColor(image, cv2.COLOR_RGB2HLS)\n",
    "    lower = np.array([0,190,0])\n",
    "    upper = np.array([255,255,255])\n",
    "    yellower = np.array([10,0,90])\n",
    "    yelupper = np.array([50,255,255])\n",
    "    yellowmask = cv2.inRange(hls, yellower, yelupper)\n",
    "    whitemask = cv2.inRange(hls, lower, upper)\n",
    "    mask = cv2.bitwise_or(yellowmask, whitemask)\n",
    "    masked = cv2.bitwise_and(image, image, mask = mask)\n",
    "    return masked"
   ]
  },
  {
   "cell_type": "code",
   "execution_count": 8,
   "metadata": {},
   "outputs": [],
   "source": [
    "filtered_img = color_filter(img)"
   ]
  },
  {
   "cell_type": "code",
   "execution_count": 9,
   "metadata": {},
   "outputs": [],
   "source": [
    "def roi(img):\n",
    "    x = int(img.shape[1])\n",
    "    y = int(img.shape[0])\n",
    "    shape = np.array([[int(0), int(y)], [int(x), int(y)], [int(0.55*x), int(0.6*y)], [int(0.45*x), int(0.6*y)]])\n",
    "    #define a numpy array with the dimensions of img, but comprised of zeros\n",
    "    mask = np.zeros_like(img)\n",
    "    #Uses 3 channels or 1 channel for color depending on input image\n",
    "    if len(img.shape) > 2:\n",
    "        channel_count = img.shape[2]\n",
    "        ignore_mask_color = (255,) * channel_count\n",
    "    else:\n",
    "        ignore_mask_color = 255\n",
    "    #creates a polygon with the mask color\n",
    "    cv2.fillPoly(mask, np.int32([shape]), ignore_mask_color)\n",
    "    #returns the image only where the mask pixels are not zero\n",
    "    masked_image = cv2.bitwise_and(img, mask)\n",
    "    return masked_image"
   ]
  },
  {
   "cell_type": "code",
   "execution_count": 10,
   "metadata": {},
   "outputs": [],
   "source": [
    "roi_img=roi(filtered_img)"
   ]
  },
  {
   "cell_type": "code",
   "execution_count": null,
   "metadata": {},
   "outputs": [],
   "source": []
  },
  {
   "cell_type": "code",
   "execution_count": 11,
   "metadata": {},
   "outputs": [],
   "source": [
    "def grayscale(img):\n",
    "    return cv2.cvtColor(img, cv2.COLOR_RGB2GRAY)\n",
    "def canny(img):\n",
    "    return cv2.Canny(grayscale(img), 50, 120)"
   ]
  },
  {
   "cell_type": "code",
   "execution_count": 12,
   "metadata": {},
   "outputs": [],
   "source": [
    "canny_img = canny(roi_img)\n"
   ]
  },
  {
   "cell_type": "code",
   "execution_count": 13,
   "metadata": {},
   "outputs": [],
   "source": [
    "rightSlope, leftSlope, rightIntercept, leftIntercept = [],[],[],[]\n",
    "def draw_lines(img, lines, thickness=5):\n",
    "    global rightSlope, leftSlope, rightIntercept, leftIntercept\n",
    "    rightColor=[0,255,0]    \n",
    "    leftColor=[255,0,0]\n",
    "    \n",
    "    #this is used to filter out the outlying lines that can affect the average\n",
    "    #We then use the slope we determined to find the y-intercept of the filtered lines by solving for b in y=mx+b\n",
    "    for line in lines:\n",
    "        for x1,y1,x2,y2 in line:\n",
    "            slope = (y1-y2)/(x1-x2)\n",
    "            if slope > 0.3:\n",
    "                if x1 > 500 :\n",
    "                    yintercept = y2 - (slope*x2)\n",
    "                    rightSlope.append(slope)\n",
    "                    rightIntercept.append(yintercept)\n",
    "                else: None\n",
    "            elif slope < -0.3:\n",
    "                if x1 < 600:\n",
    "                    yintercept = y2 - (slope*x2)\n",
    "                    leftSlope.append(slope)\n",
    "                    leftIntercept.append(yintercept)\n",
    "    #We use slicing operators and np.mean() to find the averages of the 30 previous frames\n",
    "    #This makes the lines more stable, and less likely to shift rapidly\n",
    "    leftavgSlope = np.mean(leftSlope[-30:])\n",
    "    leftavgIntercept = np.mean(leftIntercept[-30:])\n",
    "    rightavgSlope = np.mean(rightSlope[-30:])\n",
    "    rightavgIntercept = np.mean(rightIntercept[-30:])\n",
    "    #Here we plot the lines and the shape of the lane using the average slope and intercepts\n",
    "    try:\n",
    "        left_line_x1 = int((0.65*img.shape[0] - leftavgIntercept)/leftavgSlope)\n",
    "        left_line_x2 = int((img.shape[0] - leftavgIntercept)/leftavgSlope)\n",
    "        right_line_x1 = int((0.65*img.shape[0] - rightavgIntercept)/rightavgSlope)\n",
    "        right_line_x2 = int((img.shape[0] - rightavgIntercept)/rightavgSlope)\n",
    "        pts = np.array([[left_line_x1, int(0.65*img.shape[0])],[left_line_x2, int(img.shape[0])],[right_line_x2, int(img.shape[0])],[right_line_x1, int(0.65*img.shape[0])]], np.int32)\n",
    "        pts = pts.reshape((-1,1,2))\n",
    "        cv2.fillPoly(img,[pts],(0,0,255))\n",
    "        cv2.line(img, (left_line_x1, int(0.65*img.shape[0])), (left_line_x2, int(img.shape[0])), leftColor, 10)\n",
    "        cv2.line(img, (right_line_x1, int(0.65*img.shape[0])), (right_line_x2, int(img.shape[0])), rightColor, 10)\n",
    "    except ValueError:\n",
    "    #I keep getting errors for some reason, so I put this here. Idk if the error still persists.\n",
    "        pass"
   ]
  },
  {
   "cell_type": "code",
   "execution_count": 14,
   "metadata": {},
   "outputs": [],
   "source": [
    "def hough_lines(img, rho, theta, threshold, min_line_len, max_line_gap):\n",
    "    \"\"\"\n",
    "    `img` should be the output of a Canny transform.\n",
    "    \"\"\"\n",
    "    lines = cv2.HoughLinesP(img, rho, theta, threshold, np.array([]), minLineLength=min_line_len, maxLineGap=max_line_gap)\n",
    "    line_img = np.zeros((img.shape[0], img.shape[1], 3), dtype=np.uint8)\n",
    "    draw_lines(line_img, lines)\n",
    "    return line_img"
   ]
  },
  {
   "cell_type": "code",
   "execution_count": 15,
   "metadata": {},
   "outputs": [],
   "source": [
    "def linedetect(img):\n",
    "    return hough_lines(img, 1, np.pi/180, 10, 20, 100)"
   ]
  },
  {
   "cell_type": "code",
   "execution_count": 16,
   "metadata": {},
   "outputs": [],
   "source": [
    "hough_img =linedetect(canny_img)"
   ]
  },
  {
   "cell_type": "code",
   "execution_count": null,
   "metadata": {},
   "outputs": [],
   "source": []
  },
  {
   "cell_type": "code",
   "execution_count": 18,
   "metadata": {},
   "outputs": [
    {
     "data": {
      "text/plain": [
       "-1"
      ]
     },
     "execution_count": 18,
     "metadata": {},
     "output_type": "execute_result"
    }
   ],
   "source": [
    "cv2.imshow('jkfj',canny_img)\n",
    "cv2.imshow('jjgffj',hough_img)\n",
    "cv2.waitKey(0)"
   ]
  },
  {
   "cell_type": "code",
   "execution_count": null,
   "metadata": {},
   "outputs": [],
   "source": []
  }
 ],
 "metadata": {
  "kernelspec": {
   "display_name": "Python 3",
   "language": "python",
   "name": "python3"
  },
  "language_info": {
   "codemirror_mode": {
    "name": "ipython",
    "version": 3
   },
   "file_extension": ".py",
   "mimetype": "text/x-python",
   "name": "python",
   "nbconvert_exporter": "python",
   "pygments_lexer": "ipython3",
   "version": "3.8.2"
  }
 },
 "nbformat": 4,
 "nbformat_minor": 4
}
